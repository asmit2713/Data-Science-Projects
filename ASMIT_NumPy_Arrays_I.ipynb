{
  "nbformat": 4,
  "nbformat_minor": 0,
  "metadata": {
    "colab": {
      "name": "ASMIT NumPy Arrays I ",
      "provenance": [],
      "collapsed_sections": [],
      "include_colab_link": true
    },
    "kernelspec": {
      "name": "python3",
      "display_name": "Python 3"
    }
  },
  "cells": [
    {
      "cell_type": "markdown",
      "metadata": {
        "id": "view-in-github",
        "colab_type": "text"
      },
      "source": [
        "<a href=\"https://colab.research.google.com/github/asmit2713/Data-Science-Projects/blob/main/ASMIT_NumPy_Arrays_I.ipynb\" target=\"_parent\"><img src=\"https://colab.research.google.com/assets/colab-badge.svg\" alt=\"Open In Colab\"/></a>"
      ]
    },
    {
      "cell_type": "markdown",
      "metadata": {
        "id": "7LlG_PPFjJUz"
      },
      "source": [
        "# Lesson 9: NumPy Arrays I\n"
      ]
    },
    {
      "cell_type": "markdown",
      "metadata": {
        "id": "3rJJF2_hNmmS"
      },
      "source": [
        "### Teacher-Student Activities\n",
        "\n",
        "In the previous lesson, we learnt how to create a Python list using the list comprehension method. In this lesson, we are going to learn how to create NumPy arrays.\n",
        "\n",
        "An array is also a data-structure which contains multiple values. Working with NumPy arrays is much easier than working with Python lists.\n",
        "\n",
        "The term NumPy stands for Numeric (or Numerical) Python. It is one of the most popular modules amongst Statisticians and Data Scientists across the globe to perform heavy mathematical computations. NumPy arrays are also faster than Python lists in terms of code execution time.\n",
        "\n",
        "For all practical purposes, **an array is the same as a list**. Fundamentally, they have been programmed differently by the inventors of Python language. We are **NOT** required to know how they were created. We only need to know how to apply them in different situations.\n"
      ]
    },
    {
      "cell_type": "markdown",
      "metadata": {
        "id": "TD65811mb1s6"
      },
      "source": [
        "---"
      ]
    },
    {
      "cell_type": "markdown",
      "metadata": {
        "id": "8C6arOgwIdZR"
      },
      "source": [
        "#### Activity 1: NumPy Arrays - The `ones()` & `zeros()` Functions\n",
        "\n",
        "To get started with NumPy arrays, let's create an array having each item as `1` with dimensions `5` blocks, `3` rows and `3` columns. \n",
        "\n",
        "To create such an array, you first need to `import` the `numpy` module at the beginning of the code. Then use the `ones()` function from the `numpy` module.\n",
        "\n",
        "The `ones()` function requires two inputs. The first input should be the required dimension of the array and the second input should define the data-type of the items in the required array. \n"
      ]
    },
    {
      "cell_type": "code",
      "metadata": {
        "id": "vlgvfn4lhd2L",
        "colab": {
          "base_uri": "https://localhost:8080/"
        },
        "outputId": "98fc62f3-6f29-481a-9f78-30bdb19a7acd"
      },
      "source": [
        "# Teacher Action: Create an array containing '1' as its items using the 'ones()' function from the 'numpy' module.\n",
        "import numpy as np\n",
        "# Step 1: Always import the 'numpy' module at the beginning of the code and give it an alias (or nickname) called np. \n",
        "# We will always refer to the 'numpy' module as 'np' throughout the code.\n",
        "ones = np.ones((5,3,3),dtype=int)\n",
        "ones\n",
        "# Step 2: Call 'ones()' function from the np module using the dot operator.\n",
        "# The 'ones()' function, requires two inputs: the dimension of the array and data-type of the items which in this case is 'int'. \n"
      ],
      "execution_count": null,
      "outputs": [
        {
          "output_type": "execute_result",
          "data": {
            "text/plain": [
              "array([[[1, 1, 1],\n",
              "        [1, 1, 1],\n",
              "        [1, 1, 1]],\n",
              "\n",
              "       [[1, 1, 1],\n",
              "        [1, 1, 1],\n",
              "        [1, 1, 1]],\n",
              "\n",
              "       [[1, 1, 1],\n",
              "        [1, 1, 1],\n",
              "        [1, 1, 1]],\n",
              "\n",
              "       [[1, 1, 1],\n",
              "        [1, 1, 1],\n",
              "        [1, 1, 1]],\n",
              "\n",
              "       [[1, 1, 1],\n",
              "        [1, 1, 1],\n",
              "        [1, 1, 1]]])"
            ]
          },
          "metadata": {
            "tags": []
          },
          "execution_count": 1
        }
      ]
    },
    {
      "cell_type": "markdown",
      "metadata": {
        "id": "rCnmusCAc6gI"
      },
      "source": [
        "**Note:** \n",
        "\n",
        "1. Always import the `numpy` module at the beginning of the code with `np` as its alias (or nickname). Throughout the course, we will always refer to the `numpy` module as `np` unless otherwise specified.\n",
        "\n",
        "2. The de facto data-type of an item in a NumPy array is `float`.\n",
        "\n",
        "Using the `type()` function, you can verify whether an array is a NumPy array or not."
      ]
    },
    {
      "cell_type": "code",
      "metadata": {
        "id": "AXL0BiNXc7iK",
        "colab": {
          "base_uri": "https://localhost:8080/"
        },
        "outputId": "ed200a3b-375a-40ac-b039-ec28e1f011e9"
      },
      "source": [
        "# Teacher Action: Using the 'type()' function, verify whether the 'ones' array is a NumPy array or not.\n",
        "type(ones)\n"
      ],
      "execution_count": null,
      "outputs": [
        {
          "output_type": "execute_result",
          "data": {
            "text/plain": [
              "numpy.ndarray"
            ]
          },
          "metadata": {
            "tags": []
          },
          "execution_count": 3
        }
      ]
    },
    {
      "cell_type": "markdown",
      "metadata": {
        "id": "wwpuCqm3aIZm"
      },
      "source": [
        "As you can see, the `type()` function has returned `numpy.ndarray` as an output which confirms that the `ones` array is indeed a NumPy array. \n",
        "\n",
        "Similarly, you try to create a NumPy array having each item as `0` with dimensions `4` blocks, `2` rows and `3` columns using the `zeros()` function. Make sure that each item is an integer.\n"
      ]
    },
    {
      "cell_type": "code",
      "metadata": {
        "id": "lD8__Mj7oT6G",
        "colab": {
          "base_uri": "https://localhost:8080/"
        },
        "outputId": "a35aa4b1-f0b4-4154-e6c6-0868bdb4beb2"
      },
      "source": [
        "# Student Action: Using 'zeros()' function, create a NumPy array having 4 blocks, 2 rows and 3 columns. The items should be int data-type.\n",
        "zeros = np.zeros((4,2,3), dtype=int)\n",
        "zeros"
      ],
      "execution_count": null,
      "outputs": [
        {
          "output_type": "execute_result",
          "data": {
            "text/plain": [
              "array([[[0, 0, 0],\n",
              "        [0, 0, 0]],\n",
              "\n",
              "       [[0, 0, 0],\n",
              "        [0, 0, 0]],\n",
              "\n",
              "       [[0, 0, 0],\n",
              "        [0, 0, 0]],\n",
              "\n",
              "       [[0, 0, 0],\n",
              "        [0, 0, 0]]])"
            ]
          },
          "metadata": {
            "tags": []
          },
          "execution_count": 4
        }
      ]
    },
    {
      "cell_type": "markdown",
      "metadata": {
        "id": "rTfcnhivbui_"
      },
      "source": [
        "Recreate the above array without providing the data-type as input. The output should be a three-dimensional array with each item as `0.` which is a floating-point number.\n",
        "\n",
        "Here's the desired output:\n",
        "\n",
        "```\n",
        "array([[[0., 0., 0.],\n",
        "        [0., 0., 0.]],\n",
        "\n",
        "       [[0., 0., 0.],\n",
        "        [0., 0., 0.]],\n",
        "\n",
        "       [[0., 0., 0.],\n",
        "        [0., 0., 0.]],\n",
        "\n",
        "       [[0., 0., 0.],\n",
        "        [0., 0., 0.]]])\n",
        "```"
      ]
    },
    {
      "cell_type": "code",
      "metadata": {
        "id": "iM5JTdq3b8kt",
        "colab": {
          "base_uri": "https://localhost:8080/"
        },
        "outputId": "751d6258-8e8f-437e-fd30-25cdedb50004"
      },
      "source": [
        "# Student Action: Using 'zeros()' function, create a numpy array having 4 blocks, 2 rows and 3 columns.\n",
        "zeros_f = np.zeros((4,2,3))\n",
        "zeros_f"
      ],
      "execution_count": null,
      "outputs": [
        {
          "output_type": "execute_result",
          "data": {
            "text/plain": [
              "array([[[0., 0., 0.],\n",
              "        [0., 0., 0.]],\n",
              "\n",
              "       [[0., 0., 0.],\n",
              "        [0., 0., 0.]],\n",
              "\n",
              "       [[0., 0., 0.],\n",
              "        [0., 0., 0.]],\n",
              "\n",
              "       [[0., 0., 0.],\n",
              "        [0., 0., 0.]]])"
            ]
          },
          "metadata": {
            "tags": []
          },
          "execution_count": 5
        }
      ]
    },
    {
      "cell_type": "markdown",
      "metadata": {
        "id": "M5PzhOjLfyCi"
      },
      "source": [
        "As you can see, all the items of the `zero_float` array are of `float` data-type. \n"
      ]
    },
    {
      "cell_type": "markdown",
      "metadata": {
        "id": "5MTE0KcDqqUe"
      },
      "source": [
        "---"
      ]
    },
    {
      "cell_type": "markdown",
      "metadata": {
        "id": "r9A3Qj0cqrCA"
      },
      "source": [
        "#### Activity 2: The `dtype` Keyword\n",
        "\n",
        "To check the data-type of the values stored in a NumPy array, you can use the `dtype` keyword.\n"
      ]
    },
    {
      "cell_type": "code",
      "metadata": {
        "id": "pxd0yIn5eE9J",
        "colab": {
          "base_uri": "https://localhost:8080/"
        },
        "outputId": "df9a452e-201e-440c-f90e-c6a792820cac"
      },
      "source": [
        "# Student Action: Using the 'dtype' keyword, verify whether the 'zeros_float' array items are floating-point values or not. \n",
        "zeros_f.dtype "
      ],
      "execution_count": null,
      "outputs": [
        {
          "output_type": "execute_result",
          "data": {
            "text/plain": [
              "dtype('float64')"
            ]
          },
          "metadata": {
            "tags": []
          },
          "execution_count": 6
        }
      ]
    },
    {
      "cell_type": "markdown",
      "metadata": {
        "id": "zym6XMZugTPY"
      },
      "source": [
        "For the time being ignore the number `64`. As you can see, the `dtype` keyword has returned `dtype('float64')` as an output confirming that all the items of the `zeros_float` array are floating-point values. \n"
      ]
    },
    {
      "cell_type": "code",
      "metadata": {
        "id": "2lFDm3JvgwgN",
        "colab": {
          "base_uri": "https://localhost:8080/"
        },
        "outputId": "d36257f0-7042-42e7-ce27-de1173dc9a59"
      },
      "source": [
        "# Student Action: Using the 'dtype' keyword, verify whether the 'ones' array items are int values or not. \n",
        "ones.dtype"
      ],
      "execution_count": null,
      "outputs": [
        {
          "output_type": "execute_result",
          "data": {
            "text/plain": [
              "dtype('int64')"
            ]
          },
          "metadata": {
            "tags": []
          },
          "execution_count": 7
        }
      ]
    },
    {
      "cell_type": "markdown",
      "metadata": {
        "id": "YqEeGauMg6Gd"
      },
      "source": [
        "For the time being ignore the number `64`. As you can see, the `dtype` keyword has returned `dtype('int64')` as an output confirming that all the items of the `ones` array are integer values. \n",
        " \n",
        "\n",
        "**Difference Between The `type()` Function & The `dtype` Keyword**\n",
        "\n",
        "The `type()` function is a function of Python. It returns the type of Python object. The data-types or more accurately the **primitive data-types** `int`, `float`, `str` and `bool` are actually Python objects. Similarly, Python lists, NumPy module, `random` modules are also Python objects. The `type()` function will tell you what type of Python objects they are. "
      ]
    },
    {
      "cell_type": "code",
      "metadata": {
        "id": "cA-nCcNS6T9I",
        "colab": {
          "base_uri": "https://localhost:8080/"
        },
        "outputId": "468d460e-221e-4011-8b2b-79ea39d94ebe"
      },
      "source": [
        "# Student Action: Run the code shown below to see that the 'type()' function returns the type of Python object.\n",
        "import random \n",
        "import numpy as np\n",
        "# 1. The 'int' Python object.\n",
        "print(type(7))\n",
        "# 2. The 'float' Python object.\n",
        "print(type(2.4))\n",
        "# 3. The 'str' Python object.\n",
        "print(type(\"Asmit\"))\n",
        "# 4. The 'list' Python object\n",
        "print(type([1,34,4]))\n",
        "# 5. 'numpy' is a 'module' Python object.\n",
        "print(type(np))\n",
        "# 6. 'random' is a 'module' Python object.\n",
        "print(type(random))"
      ],
      "execution_count": null,
      "outputs": [
        {
          "output_type": "stream",
          "text": [
            "<class 'int'>\n",
            "<class 'float'>\n",
            "<class 'str'>\n",
            "<class 'list'>\n",
            "<class 'module'>\n",
            "<class 'module'>\n"
          ],
          "name": "stdout"
        }
      ]
    },
    {
      "cell_type": "markdown",
      "metadata": {
        "id": "oJqyhPWq77Uw"
      },
      "source": [
        "In the output, ignore the term `class`. As you can see, the `type()` function indeed returns the type of Python object for an entity in Python."
      ]
    },
    {
      "cell_type": "markdown",
      "metadata": {
        "id": "qikzHXnYobUR"
      },
      "source": [
        "---"
      ]
    },
    {
      "cell_type": "markdown",
      "metadata": {
        "id": "qkZj_ZVTiHz9"
      },
      "source": [
        "#### Activity 3: The `ndim` And `shape` Keywords\n",
        "\n",
        "**The `ndim` Keyword:** Using the `ndim` keyword, you can find out the dimension of a NumPy array. The `ones`, `zeros` and `zeros_float` arrays are three-dimensional arrays. So, the `ndim` keyword should return `3` for each of these arrays."
      ]
    },
    {
      "cell_type": "code",
      "metadata": {
        "id": "aKuQhbixiMVK",
        "colab": {
          "base_uri": "https://localhost:8080/"
        },
        "outputId": "ed937d37-b62b-4541-81f0-bf22e9be3f62"
      },
      "source": [
        "# Student Action: Using the 'ndim' array, find out the dimension of 'ones', 'zeros' and 'zeros_float' NumPy arrays.\n",
        "print(ones.ndim)"
      ],
      "execution_count": null,
      "outputs": [
        {
          "output_type": "stream",
          "text": [
            "3\n"
          ],
          "name": "stdout"
        }
      ]
    },
    {
      "cell_type": "markdown",
      "metadata": {
        "id": "tC0fYlbmlRxH"
      },
      "source": [
        "**The `shape` Keyword:** Using the `shape` keyword, you can find out the number of blocks, rows and columns present in NumPy arrays."
      ]
    },
    {
      "cell_type": "code",
      "metadata": {
        "id": "f8jxBActlY0o",
        "colab": {
          "base_uri": "https://localhost:8080/"
        },
        "outputId": "39438912-e12a-457a-8859-b6177463f196"
      },
      "source": [
        "# Student Action: Using the 'shape' keyword find out the number of blocks, rows and columns in the 'ones', 'zeros' and 'zeros_float' arrays.\n",
        "print(ones.shape)"
      ],
      "execution_count": null,
      "outputs": [
        {
          "output_type": "stream",
          "text": [
            "(5, 3, 3)\n"
          ],
          "name": "stdout"
        }
      ]
    },
    {
      "cell_type": "markdown",
      "metadata": {
        "id": "Sr-QqVlgmB7G"
      },
      "source": [
        "As you can see:\n",
        "\n",
        "- The `ones` array has 5 blocks, 3 rows and 3 columns.\n",
        "\n",
        "- The `zeros` array has 4 blocks, 2 rows and 3 columns.\n",
        "\n",
        "- The `zeros_ones` array also has 4 blocks, 2 rows and 3 columns."
      ]
    },
    {
      "cell_type": "markdown",
      "metadata": {
        "id": "jW-6nwfUlQi1"
      },
      "source": [
        "---"
      ]
    },
    {
      "cell_type": "markdown",
      "metadata": {
        "id": "83zFWveBmVT4"
      },
      "source": [
        "#### Activity 4: The `arange()` And `linspace()` Functions^^\n",
        "\n",
        "The are `arange()` and `linspace()` functions in NumPy module create an array of numbers such that the difference between a pair of any two consecutive numbers in the array is constant. However, there is a slight difference in their outputs.\n",
        "\n",
        "**The `arange()` Function:** It returns a one-dimensional array containing numbers between two specific numbers. It is similar to the `range()` function in the `for` loop."
      ]
    },
    {
      "cell_type": "code",
      "metadata": {
        "id": "RvOk2XS6mz7g",
        "colab": {
          "base_uri": "https://localhost:8080/"
        },
        "outputId": "f4537627-7f3d-4520-928d-efc57c6727e1"
      },
      "source": [
        "# Student Action: Create a one-dimensional array containing numbers between 5 and 20 using the 'arange()' function in the NumPy module.\n",
        "a1 = np.arange(5,21)\n",
        "a1"
      ],
      "execution_count": null,
      "outputs": [
        {
          "output_type": "execute_result",
          "data": {
            "text/plain": [
              "array([ 5,  6,  7,  8,  9, 10, 11, 12, 13, 14, 15, 16, 17, 18, 19, 20])"
            ]
          },
          "metadata": {
            "tags": []
          },
          "execution_count": 12
        }
      ]
    },
    {
      "cell_type": "markdown",
      "metadata": {
        "id": "17OYVXuAm2Jl"
      },
      "source": [
        "Here, the `arange()` function has created an array of numbers from `5` to `20`. The difference between a pair of any two consecutive numbers is `1`. The `arange()` function will not include the last number specified in the array created.\n",
        "\n",
        "If you want the difference between two consecutive numbers to be greater than `1` (say `4`) in an array, then you can specify the difference as an additional input to the `arange()` function."
      ]
    },
    {
      "cell_type": "code",
      "metadata": {
        "id": "MlDrsatOm4uU",
        "colab": {
          "base_uri": "https://localhost:8080/"
        },
        "outputId": "5a86b498-be9e-4e53-8cbf-2251cbd27872"
      },
      "source": [
        "# Student Action: Create an array of numbers from 1 to 24 such that the difference between two consecutive numbers is 4.\n",
        "a2 = np.arange(1,25,4)\n",
        "a2"
      ],
      "execution_count": null,
      "outputs": [
        {
          "output_type": "execute_result",
          "data": {
            "text/plain": [
              "array([ 1,  5,  9, 13, 17, 21])"
            ]
          },
          "metadata": {
            "tags": []
          },
          "execution_count": 13
        }
      ]
    },
    {
      "cell_type": "markdown",
      "metadata": {
        "id": "5_r2bBl4m7cm"
      },
      "source": [
        "As you can see, the `arange()` function has created an array of numbers from `1` to `24` such that the difference between two consecutive numbers is `4`. \n",
        "\n",
        "**Note:** If the difference between two consecutive numbers is not specified, then the `arange()` function will assume that the difference is `1`.\n",
        "\n",
        "You can also create an array containing the floating-point numbers using the `arange()` function by providing `dtype=float` as an additional input to the function."
      ]
    },
    {
      "cell_type": "code",
      "metadata": {
        "id": "G3TJYq0dm9qU",
        "colab": {
          "base_uri": "https://localhost:8080/"
        },
        "outputId": "d65d01a1-aaa1-46a9-81e0-ee9cfa520774"
      },
      "source": [
        "# Student Action: Create an array of numbers from 1 to 24 such that the difference between two consecutive numbers is 4 and each item is a float.\n",
        "a3 = np.arange(1,25,4,dtype=float)\n",
        "a3"
      ],
      "execution_count": null,
      "outputs": [
        {
          "output_type": "execute_result",
          "data": {
            "text/plain": [
              "array([ 1.,  5.,  9., 13., 17., 21.])"
            ]
          },
          "metadata": {
            "tags": []
          },
          "execution_count": 14
        }
      ]
    },
    {
      "cell_type": "markdown",
      "metadata": {
        "id": "UnR5FyRpnAWy"
      },
      "source": [
        "As you can see, the items contained in `array3` are floating-point numbers.\n",
        "\n",
        "**The `linspace()` Function:** This function creates an array containing a fixed number of numbers between two specific numbers such that the difference between any two consecutive numbers in the array is constant. This will be clear to you with an example.\n",
        "\n",
        "Suppose you want to create an array containing exactly `4` numbers between the numbers `1` and `25` such that all the difference between any two consecutive numbers is constant, then you can use the `linspace()` function."
      ]
    },
    {
      "cell_type": "code",
      "metadata": {
        "id": "SCdhTcEinE9y",
        "colab": {
          "base_uri": "https://localhost:8080/"
        },
        "outputId": "12495c84-b373-4f26-b522-8a6953ac5ff5"
      },
      "source": [
        "# Student Action: Create an array containing 4 numbers between 1 to 25.\n",
        "a4= np.linspace(1,25,100)\n",
        "a4"
      ],
      "execution_count": null,
      "outputs": [
        {
          "output_type": "execute_result",
          "data": {
            "text/plain": [
              "array([ 1.        ,  1.24242424,  1.48484848,  1.72727273,  1.96969697,\n",
              "        2.21212121,  2.45454545,  2.6969697 ,  2.93939394,  3.18181818,\n",
              "        3.42424242,  3.66666667,  3.90909091,  4.15151515,  4.39393939,\n",
              "        4.63636364,  4.87878788,  5.12121212,  5.36363636,  5.60606061,\n",
              "        5.84848485,  6.09090909,  6.33333333,  6.57575758,  6.81818182,\n",
              "        7.06060606,  7.3030303 ,  7.54545455,  7.78787879,  8.03030303,\n",
              "        8.27272727,  8.51515152,  8.75757576,  9.        ,  9.24242424,\n",
              "        9.48484848,  9.72727273,  9.96969697, 10.21212121, 10.45454545,\n",
              "       10.6969697 , 10.93939394, 11.18181818, 11.42424242, 11.66666667,\n",
              "       11.90909091, 12.15151515, 12.39393939, 12.63636364, 12.87878788,\n",
              "       13.12121212, 13.36363636, 13.60606061, 13.84848485, 14.09090909,\n",
              "       14.33333333, 14.57575758, 14.81818182, 15.06060606, 15.3030303 ,\n",
              "       15.54545455, 15.78787879, 16.03030303, 16.27272727, 16.51515152,\n",
              "       16.75757576, 17.        , 17.24242424, 17.48484848, 17.72727273,\n",
              "       17.96969697, 18.21212121, 18.45454545, 18.6969697 , 18.93939394,\n",
              "       19.18181818, 19.42424242, 19.66666667, 19.90909091, 20.15151515,\n",
              "       20.39393939, 20.63636364, 20.87878788, 21.12121212, 21.36363636,\n",
              "       21.60606061, 21.84848485, 22.09090909, 22.33333333, 22.57575758,\n",
              "       22.81818182, 23.06060606, 23.3030303 , 23.54545455, 23.78787879,\n",
              "       24.03030303, 24.27272727, 24.51515152, 24.75757576, 25.        ])"
            ]
          },
          "metadata": {
            "tags": []
          },
          "execution_count": 16
        }
      ]
    },
    {
      "cell_type": "markdown",
      "metadata": {
        "id": "aNIZgk9NnF1G"
      },
      "source": [
        "As you can see, the `linspace()` function has created an array containing `4` numbers between `1` and `25` (including `25`) such that the difference between two consecutive numbers is constant. Take a pair of any two consecutive numbers in `array5`, the difference between them will be `8.`\n",
        "\n",
        "Notice the difference between the outputs of the `arange()` and `linspace()` functions for exactly the same inputs. The `arange()` function returns `6` numbers such that the difference between them is exactly `4` whereas the `linspace()` function returns exactly `4` numbers such that the difference between two consecutive numbers is constant. \n",
        "\n",
        "In other words:\n",
        "\n",
        "- In the `arange()` function, you specify the value of the difference between two consecutive numbers as the third input.\n",
        "\n",
        "- Whereas, in the `linspace()` function, you specify the length of the array to be created as the third input.\n",
        "\n",
        "Let's create another array using the `linspace()` function to get a better understanding. Let's create an array containing `10` numbers between `1` and `25` such that the difference between two consecutive numbers is constant. \n"
      ]
    },
    {
      "cell_type": "code",
      "metadata": {
        "id": "Yma1-oPkFXuU",
        "colab": {
          "base_uri": "https://localhost:8080/"
        },
        "outputId": "04e11f8a-43dc-441e-b96c-b32f72b8a87f"
      },
      "source": [
        "# Student Action: Create an array containing 10 numbers between 1 and 25 such that the difference between two consecutive numbers is constant.\n",
        "a5 = np.linspace(1,26,100)\n",
        "a5"
      ],
      "execution_count": null,
      "outputs": [
        {
          "output_type": "execute_result",
          "data": {
            "text/plain": [
              "array([ 1.        ,  1.25252525,  1.50505051,  1.75757576,  2.01010101,\n",
              "        2.26262626,  2.51515152,  2.76767677,  3.02020202,  3.27272727,\n",
              "        3.52525253,  3.77777778,  4.03030303,  4.28282828,  4.53535354,\n",
              "        4.78787879,  5.04040404,  5.29292929,  5.54545455,  5.7979798 ,\n",
              "        6.05050505,  6.3030303 ,  6.55555556,  6.80808081,  7.06060606,\n",
              "        7.31313131,  7.56565657,  7.81818182,  8.07070707,  8.32323232,\n",
              "        8.57575758,  8.82828283,  9.08080808,  9.33333333,  9.58585859,\n",
              "        9.83838384, 10.09090909, 10.34343434, 10.5959596 , 10.84848485,\n",
              "       11.1010101 , 11.35353535, 11.60606061, 11.85858586, 12.11111111,\n",
              "       12.36363636, 12.61616162, 12.86868687, 13.12121212, 13.37373737,\n",
              "       13.62626263, 13.87878788, 14.13131313, 14.38383838, 14.63636364,\n",
              "       14.88888889, 15.14141414, 15.39393939, 15.64646465, 15.8989899 ,\n",
              "       16.15151515, 16.4040404 , 16.65656566, 16.90909091, 17.16161616,\n",
              "       17.41414141, 17.66666667, 17.91919192, 18.17171717, 18.42424242,\n",
              "       18.67676768, 18.92929293, 19.18181818, 19.43434343, 19.68686869,\n",
              "       19.93939394, 20.19191919, 20.44444444, 20.6969697 , 20.94949495,\n",
              "       21.2020202 , 21.45454545, 21.70707071, 21.95959596, 22.21212121,\n",
              "       22.46464646, 22.71717172, 22.96969697, 23.22222222, 23.47474747,\n",
              "       23.72727273, 23.97979798, 24.23232323, 24.48484848, 24.73737374,\n",
              "       24.98989899, 25.24242424, 25.49494949, 25.74747475, 26.        ])"
            ]
          },
          "metadata": {
            "tags": []
          },
          "execution_count": 21
        }
      ]
    },
    {
      "cell_type": "markdown",
      "metadata": {
        "id": "LjM6JCndGMR9"
      },
      "source": [
        "Take a pair of any two consecutive numbers in the `array5`, the difference between them will be `2.66666666`"
      ]
    },
    {
      "cell_type": "markdown",
      "metadata": {
        "id": "KQ0PGPSitkjx"
      },
      "source": [
        "---"
      ]
    },
    {
      "cell_type": "markdown",
      "metadata": {
        "id": "i5XfedwAtmQn"
      },
      "source": [
        "#### Activity 5: The `reshape()` Function\n",
        "\n",
        "\n",
        "The `reshape()` function reshapes an array from one configuration to another without changing the items.\n",
        "\n",
        "The `zeros` array has 4 blocks, 2 rows and 3 columns. Suppose you want to reshape it into another array having `6` rows and `4` columns without changing the items, then you can use the `reshape()` function."
      ]
    },
    {
      "cell_type": "code",
      "metadata": {
        "id": "TVSPwGGJuZUb",
        "colab": {
          "base_uri": "https://localhost:8080/"
        },
        "outputId": "6e819068-1c29-4568-96b4-655d2bcf41b5"
      },
      "source": [
        "# Student Action: Reshape the 'zeros' array so that it has 6 rows and 4 columns.\n",
        "# Before reshaping\n",
        "print(zeros)\n",
        "# After reshaping\n",
        "a6 = zeros.reshape(6,4)\n",
        "a6"
      ],
      "execution_count": null,
      "outputs": [
        {
          "output_type": "stream",
          "text": [
            "[[[0 0 0]\n",
            "  [0 0 0]]\n",
            "\n",
            " [[0 0 0]\n",
            "  [0 0 0]]\n",
            "\n",
            " [[0 0 0]\n",
            "  [0 0 0]]\n",
            "\n",
            " [[0 0 0]\n",
            "  [0 0 0]]]\n"
          ],
          "name": "stdout"
        },
        {
          "output_type": "execute_result",
          "data": {
            "text/plain": [
              "array([[0, 0, 0, 0],\n",
              "       [0, 0, 0, 0],\n",
              "       [0, 0, 0, 0],\n",
              "       [0, 0, 0, 0],\n",
              "       [0, 0, 0, 0],\n",
              "       [0, 0, 0, 0]])"
            ]
          },
          "metadata": {
            "tags": []
          },
          "execution_count": 23
        }
      ]
    },
    {
      "cell_type": "markdown",
      "metadata": {
        "id": "UR-_4ugcudOM"
      },
      "source": [
        "The `reshape()` function has reshaped the `zeros` array to a two-dimensional array having 6 rows and 4 columns. Inside the `reshape()` function, you have to provide the new configuration. \n",
        "\n",
        "This operation is only valid when the number of items in the new configuration is exactly the same as the number of items in the original configuration. \n",
        "\n",
        "In this case, there are 24 items (4 blocks $\\times$ 2 rows $\\times$ $3$ columns = 24 items) in the original configuration. So the new configuration must also have 24 items.\n",
        "\n",
        "You can also convert a multi-dimensional array into a one-dimensional array using the `reshape()` function. Let's convert `ones` into a one-dimensional array using the `reshape()` function. It has 45 items. The reshaped array must also contain 45 items."
      ]
    },
    {
      "cell_type": "code",
      "metadata": {
        "id": "pruLdnwvulL3",
        "colab": {
          "base_uri": "https://localhost:8080/"
        },
        "outputId": "7db790b9-e4bc-4891-ebd4-ee7f6f2f73b6"
      },
      "source": [
        "# Student Action: Reshape the 'ones' array so that it has just 1 row.\n",
        "print(ones)\n",
        "a7 = ones.reshape(45)\n",
        "a7"
      ],
      "execution_count": null,
      "outputs": [
        {
          "output_type": "stream",
          "text": [
            "[[[1 1 1]\n",
            "  [1 1 1]\n",
            "  [1 1 1]]\n",
            "\n",
            " [[1 1 1]\n",
            "  [1 1 1]\n",
            "  [1 1 1]]\n",
            "\n",
            " [[1 1 1]\n",
            "  [1 1 1]\n",
            "  [1 1 1]]\n",
            "\n",
            " [[1 1 1]\n",
            "  [1 1 1]\n",
            "  [1 1 1]]\n",
            "\n",
            " [[1 1 1]\n",
            "  [1 1 1]\n",
            "  [1 1 1]]]\n"
          ],
          "name": "stdout"
        },
        {
          "output_type": "execute_result",
          "data": {
            "text/plain": [
              "array([1, 1, 1, 1, 1, 1, 1, 1, 1, 1, 1, 1, 1, 1, 1, 1, 1, 1, 1, 1, 1, 1,\n",
              "       1, 1, 1, 1, 1, 1, 1, 1, 1, 1, 1, 1, 1, 1, 1, 1, 1, 1, 1, 1, 1, 1,\n",
              "       1])"
            ]
          },
          "metadata": {
            "tags": []
          },
          "execution_count": 26
        }
      ]
    },
    {
      "cell_type": "markdown",
      "metadata": {
        "id": "sihbD2dEumGE"
      },
      "source": [
        "As you can see, the three-dimensional array is converted into a one-dimensional array using the `reshape()` function."
      ]
    },
    {
      "cell_type": "markdown",
      "metadata": {
        "id": "PABm6WB9mUbu"
      },
      "source": [
        "---"
      ]
    },
    {
      "cell_type": "markdown",
      "metadata": {
        "id": "BzGc9n870SGw"
      },
      "source": [
        "#### Activity 6: The `ndarray()` Function\n",
        "In general, we can create a NumPy array containing some random values using `ndarray()` function.\n",
        "\n",
        "Let's say we want to create a NumPy array having some random integer values which have 5 rows and 2 columns, then you can use the `ndarray()` function.\n",
        "\n",
        "Similar to the `zeros()` and `ones()` functions, the `ndarray()` function takes two inputs: the first input is the configuration of the required array and the second input is the data-type of items. The de facto data-type is a floating-point value."
      ]
    },
    {
      "cell_type": "code",
      "metadata": {
        "id": "col1d2ca0H9D",
        "colab": {
          "base_uri": "https://localhost:8080/"
        },
        "outputId": "ce8c3c45-b5ea-44cb-b19e-6bb93adf0d6c"
      },
      "source": [
        "# Student Action: Create a 'numpy' array using 'ndarray()' function having 5 rows and 2 columns.\n",
        "a8 = np.ndarray((5,2),dtype =int)\n",
        "a8"
      ],
      "execution_count": null,
      "outputs": [
        {
          "output_type": "execute_result",
          "data": {
            "text/plain": [
              "array([[4607182418800017408, 4615689218096161678],\n",
              "       [4619066917816689550, 4621443817620023978],\n",
              "       [4623007567490638734, 4624571317361253490],\n",
              "       [4625665942270683818, 4626447817205991196],\n",
              "       [4627229692141298574, 4628011567076605952]])"
            ]
          },
          "metadata": {
            "tags": []
          },
          "execution_count": 27
        }
      ]
    },
    {
      "cell_type": "markdown",
      "metadata": {
        "id": "7kDnzej73oIB"
      },
      "source": [
        "---"
      ]
    },
    {
      "cell_type": "markdown",
      "metadata": {
        "id": "bNXJRQFk3vyp"
      },
      "source": [
        "#### Activity 7: The `random.randint()` Function\n",
        "\n",
        "The NumPy module also has its `random.randint()` function. It takes two inputs. The first input is the range of two integers between which a random number is to be created. The second input is the `size` parameter which defines the number of random integers to be created.\n",
        "\n",
        "**Syntax:** `np.random.randint(num1, num2, size=N)`\n",
        " \n",
        " where `num1` and `num2` are starting numbers and `N` is the number of items to be contained in the array."
      ]
    },
    {
      "cell_type": "code",
      "metadata": {
        "id": "EjiLbM0y31Gi",
        "colab": {
          "base_uri": "https://localhost:8080/"
        },
        "outputId": "2bafa1ae-b6f9-4dd0-f36f-9858ef30e245"
      },
      "source": [
        "# Student Action: Create a one-dimensional NumPy array containing 15 random integers between 50 and 100.\n",
        "a9 = np.random.randint(50,100,size=15)\n",
        "a9"
      ],
      "execution_count": null,
      "outputs": [
        {
          "output_type": "execute_result",
          "data": {
            "text/plain": [
              "array([70, 94, 67, 87, 68, 89, 78, 77, 69, 75, 78, 52, 50, 63, 56])"
            ]
          },
          "metadata": {
            "tags": []
          },
          "execution_count": 28
        }
      ]
    },
    {
      "cell_type": "markdown",
      "metadata": {
        "id": "GUc7b6_L36CD"
      },
      "source": [
        "Similarly, you can create a multi-dimensional NumPy array containing random integers by specifying the dimensions of the array to be created in the `size` parameter."
      ]
    },
    {
      "cell_type": "code",
      "metadata": {
        "id": "wjVrnDj334Ww",
        "colab": {
          "base_uri": "https://localhost:8080/"
        },
        "outputId": "6a94ef10-c427-44cb-d4ab-946049b7644b"
      },
      "source": [
        "# Student Action: Create a two-dimensional NumPy array containing 15 random integers between 50 and 100.\n",
        "a10 = np.random.randint(50,100,size=(5,3))\n",
        "a10"
      ],
      "execution_count": null,
      "outputs": [
        {
          "output_type": "execute_result",
          "data": {
            "text/plain": [
              "array([[53, 85, 86],\n",
              "       [77, 57, 55],\n",
              "       [77, 60, 95],\n",
              "       [55, 72, 99],\n",
              "       [69, 87, 89]])"
            ]
          },
          "metadata": {
            "tags": []
          },
          "execution_count": 29
        }
      ]
    },
    {
      "cell_type": "code",
      "metadata": {
        "id": "1wjZETPp39rR",
        "colab": {
          "base_uri": "https://localhost:8080/"
        },
        "outputId": "119a265f-be69-4563-ffb8-4cf07e9a6e63"
      },
      "source": [
        "# Student Action: Create a three-dimensional NumPy array containing 40 random integers between 50 and 100.\n",
        "a11 = np.random.randint(50,100,size =(2,2,10))\n",
        "a11"
      ],
      "execution_count": null,
      "outputs": [
        {
          "output_type": "execute_result",
          "data": {
            "text/plain": [
              "array([[[85, 71, 54, 58, 60, 56, 96, 62, 92, 94],\n",
              "        [64, 77, 84, 57, 55, 92, 94, 91, 90, 96]],\n",
              "\n",
              "       [[61, 96, 85, 99, 67, 63, 89, 50, 65, 62],\n",
              "        [61, 54, 69, 53, 55, 86, 78, 55, 62, 53]]])"
            ]
          },
          "metadata": {
            "tags": []
          },
          "execution_count": 30
        }
      ]
    },
    {
      "cell_type": "markdown",
      "metadata": {
        "id": "EbGXKH-c3uJh"
      },
      "source": [
        "---"
      ]
    },
    {
      "cell_type": "markdown",
      "metadata": {
        "id": "V_OCAj0f3paN"
      },
      "source": [
        "#### Activity 8: The `array()` Function^\n",
        "\n",
        "We can convert a Python list into a NumPy array. To do this, use the `array()` function which takes a Python list as an input.\n",
        "\n",
        "Let's first create a list of natural numbers from `1` to `15` using the list comprehension method. Then convert the list into a NumPy array using the `array()` function."
      ]
    },
    {
      "cell_type": "code",
      "metadata": {
        "id": "ekUreHwA4AuX",
        "colab": {
          "base_uri": "https://localhost:8080/"
        },
        "outputId": "d36f35f4-0763-43f8-d426-5da3d97b2223"
      },
      "source": [
        "# Student Action: Convert a Python list into a NumPy array using the 'array()' function.\n",
        "a12 = np.array([2,3,4])\n",
        "a12"
      ],
      "execution_count": null,
      "outputs": [
        {
          "output_type": "execute_result",
          "data": {
            "text/plain": [
              "array([2, 3, 4])"
            ]
          },
          "metadata": {
            "tags": []
          },
          "execution_count": 31
        }
      ]
    },
    {
      "cell_type": "markdown",
      "metadata": {
        "id": "EqudPIx11ZHd"
      },
      "source": [
        "To check whether a Python list is converted into a NumPy array or not, you can use the `type()` function."
      ]
    },
    {
      "cell_type": "code",
      "metadata": {
        "id": "VOEbjYwC1nF7",
        "colab": {
          "base_uri": "https://localhost:8080/"
        },
        "outputId": "1147876b-d7f8-450e-b289-8f29b284f646"
      },
      "source": [
        "# Student Action: Verify whether the 'arr' array is a NumPy array or a Python list.\n",
        "type(a12)"
      ],
      "execution_count": null,
      "outputs": [
        {
          "output_type": "execute_result",
          "data": {
            "text/plain": [
              "numpy.ndarray"
            ]
          },
          "metadata": {
            "tags": []
          },
          "execution_count": 32
        }
      ]
    },
    {
      "cell_type": "markdown",
      "metadata": {
        "id": "2doxkX1qyC9S"
      },
      "source": [
        "---"
      ]
    },
    {
      "cell_type": "markdown",
      "metadata": {
        "id": "yDM2ZGP6J00k"
      },
      "source": [
        "#### Activity 9: The `list()` Function\n",
        "\n",
        "We can convert a NumPy array into a Python list using the `list()` function.\n",
        "\n",
        "Let's convert the `arr` NumPy array into a Python list using the `list()` function."
      ]
    },
    {
      "cell_type": "code",
      "metadata": {
        "id": "SkKJekR5KOad",
        "colab": {
          "base_uri": "https://localhost:8080/"
        },
        "outputId": "801423d2-8cf3-4372-d62a-6765c1302454"
      },
      "source": [
        "# Student Action: Convert a NumPy array into a Python list using the 'list()' function.\n",
        "a13 = list(a12)\n",
        "a13"
      ],
      "execution_count": null,
      "outputs": [
        {
          "output_type": "execute_result",
          "data": {
            "text/plain": [
              "[2, 3, 4]"
            ]
          },
          "metadata": {
            "tags": []
          },
          "execution_count": 33
        }
      ]
    },
    {
      "cell_type": "markdown",
      "metadata": {
        "id": "PNrK6z-HKcgr"
      },
      "source": [
        "Let's verify whether the conversion happened or not using the `type()` function."
      ]
    },
    {
      "cell_type": "code",
      "metadata": {
        "id": "us1-glqEKZ_m",
        "colab": {
          "base_uri": "https://localhost:8080/"
        },
        "outputId": "1db0ab55-005f-44db-c576-0328c8b74daf"
      },
      "source": [
        "# Student Action: Verify whether the 'arr_converted' list is Python list or not.\n",
        "type(a13)"
      ],
      "execution_count": null,
      "outputs": [
        {
          "output_type": "execute_result",
          "data": {
            "text/plain": [
              "list"
            ]
          },
          "metadata": {
            "tags": []
          },
          "execution_count": 34
        }
      ]
    },
    {
      "cell_type": "markdown",
      "metadata": {
        "id": "4R2D_nX5Kzg5"
      },
      "source": [
        "As you can see, the output is `list`. Hence, we successfully converted the NumPy array to a Python list using the `list()` function."
      ]
    },
    {
      "cell_type": "markdown",
      "metadata": {
        "id": "DpXlygkgK_jk"
      },
      "source": [
        "---"
      ]
    },
    {
      "cell_type": "markdown",
      "metadata": {
        "id": "U7tHZclh4LUw"
      },
      "source": [
        "#### Activity 10: The `sqrt()` Function^^^\n",
        "\n",
        "One of the most notorious concepts in maths is Heron's formula. It calculates the area of a triangle having sides $a, b \\space \\text{and} \\space c$.\n",
        "\n",
        "<img src='https://drive.google.com/uc?id=18SFm-ovV_QnKufMNNaXB6aWhIhT1cVki' width=500>\n",
        "\n",
        "According to the Heron's formula, the area of a triangle is given by\n",
        "\n",
        "$$\\text{Area} = \\sqrt{s(s-a)(s-b)(s-c)}$$\n",
        "\n",
        "where \n",
        "\n",
        "$$s = \\frac{a + b + c}{2}$$\n",
        "\n",
        "i.e., the semi-perimeter of a triangle.\n",
        "\n",
        "Let's create a function which takes the lengths of the sides of a triangle and checks whether the lengths indeed represent the lengths of the sides of a triangle.\n",
        "\n",
        "*The sum of lengths of any two sides of a triangle is always greater than the length of the third side.*\n",
        "\n",
        "If the lengths meet the criteria for being the lengths of the sides of a triangle, then the function should return `True`. Else it should return `False`."
      ]
    },
    {
      "cell_type": "code",
      "metadata": {
        "id": "VbWasWSo4PSX"
      },
      "source": [
        "# Student Action: Create a function to check whether the input lenghts represent the lengths of the side of a triangle.\n",
        "def triangle(a,b,c):\n",
        "  if ((a+b)>c) and ((b+c)>a) and ((c+a)>b) :\n",
        "    return True\n",
        "  else:\n",
        "    return False  "
      ],
      "execution_count": null,
      "outputs": []
    },
    {
      "cell_type": "markdown",
      "metadata": {
        "id": "pCKSQtZd4TkQ"
      },
      "source": [
        "Now, let's create a function to calculate the area of a triangle using the Heron's formula. The function must include the `is_triangle()` function and `np.sqrt()` functions. If the invalid side lengths are passed as input to the function, then it should return `Invalid triangle.` message else it should return the area of a triangle.\n"
      ]
    },
    {
      "cell_type": "code",
      "metadata": {
        "id": "l0t6-17T4S0o",
        "colab": {
          "base_uri": "https://localhost:8080/"
        },
        "outputId": "825b4f92-3fcf-48b6-8145-86fd57fb2b89"
      },
      "source": [
        "# Student Action: Create a function to calculate the area of a triangle using the Heron's formula.\n",
        "import numpy as np\n",
        "def heron(a,b,c):\n",
        "  if triangle(a,b,c) == True:\n",
        "    s=(a+b+c)/2\n",
        "    area = np.sqrt(s*(s-a)*(s-b)*(s-c))\n",
        "    return int(area)\n",
        "  else:\n",
        "    return \"invalid triangle\"\n",
        "heron(4,6,9)    \n"
      ],
      "execution_count": null,
      "outputs": [
        {
          "output_type": "execute_result",
          "data": {
            "text/plain": [
              "9"
            ]
          },
          "metadata": {
            "tags": []
          },
          "execution_count": 4
        }
      ]
    },
    {
      "cell_type": "markdown",
      "metadata": {
        "id": "7wDOoDr64ZiK"
      },
      "source": [
        "Alternatively, you can raise a number to the power `0.5` to calculate the square root of a number, but it will return a complex number as an output for a negative number. On the other hand, the `np.sqrt()` function returns `nan` for negative numbers. It stands for **not a number** and denotes a NumPy null value."
      ]
    },
    {
      "cell_type": "markdown",
      "metadata": {
        "id": "zcUrKyhA4KDd"
      },
      "source": [
        "---"
      ]
    }
  ]
}