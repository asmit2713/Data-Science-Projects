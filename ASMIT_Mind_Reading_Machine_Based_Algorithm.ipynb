{
  "nbformat": 4,
  "nbformat_minor": 0,
  "metadata": {
    "colab": {
      "name": "ASMIT Mind Reading Machine Based Algorithm ",
      "provenance": [],
      "collapsed_sections": [],
      "include_colab_link": true
    },
    "kernelspec": {
      "name": "python3",
      "display_name": "Python 3"
    }
  },
  "cells": [
    {
      "cell_type": "markdown",
      "metadata": {
        "id": "view-in-github",
        "colab_type": "text"
      },
      "source": [
        "<a href=\"https://colab.research.google.com/github/asmit2713/Data-Science-Projects/blob/main/ASMIT_Mind_Reading_Machine_Based_Algorithm.ipynb\" target=\"_parent\"><img src=\"https://colab.research.google.com/assets/colab-badge.svg\" alt=\"Open In Colab\"/></a>"
      ]
    },
    {
      "cell_type": "markdown",
      "metadata": {
        "id": "gGOahF4k7-t2"
      },
      "source": [
        "#  Mind Reading Machine Based Algorithm"
      ]
    },
    {
      "cell_type": "markdown",
      "metadata": {
        "id": "FeyN19o4gC_P"
      },
      "source": [
        "### Teacher-Student Activities\n",
        "\n",
        "\n",
        "In the previous class, we completed half of Claude Shannon's \"A Mind Reading Machine\" based algorithm.\n",
        "\n",
        "\n",
        "As a quick recap, in this algorithm:\n",
        "\n",
        "1. The computer looks for certain patterns in the player inputs (`Heads` or `Tails`) and tries to remember them. Furthermore, it assumes that the player will follow these patterns the next time if the same situation arises. \n",
        "\n",
        "2. If an assumed pattern is not repeated at least twice by the player, the machine predicts `Heads` or `Tails` randomly.\n",
        "\n",
        "The types of patterns remembered, involve the outcome of two successive plays, i.e., whether or not the player won on those plays and whether the player changed their choice between the plays and after the plays. \n",
        "\n",
        "There are 8 possible situations and, for each situation, a player can do two things. These 8 situations are:\n",
        "\n",
        "1. The player **wins**, plays the **same** and **wins** again. The player then plays the same or plays differently.\n",
        "\n",
        "2. The player **wins**, plays the **same** and **loses**. The player then plays the same or plays differently.\n",
        "\n",
        "3. The player **wins**, plays **differently** and **wins** again. The player then plays the same or plays differently.\n",
        "\n",
        "4. The player **wins**, plays **differently** and **loses**. The player then plays the same or plays differently.\n",
        "\n",
        "5. The player **loses**, plays the **same** and **wins**. The player then plays the same or plays differently.\n",
        "\n",
        "6. The player **loses**, plays the **same** and **loses** again. The player then plays the same or plays differently.\n",
        "\n",
        "7. The player **loses**, plays **differently** and **wins**. The player then plays the same or plays differently.\n",
        "\n",
        "8. The player **loses**, plays **differently** and **loses** again. The player then plays the same or plays differently.\n",
        "\n",
        "Each situation corresponds to a different cell in the memory of a machine. Within a cell, two events are registered:\n",
        "\n",
        "1. Whether the last time this situation arose, the player played the same or different.\n",
        "\n",
        "2. Whether or not the behaviour indicated in the first point, was a repeat of the same behaviour in the preceding situation. \n",
        "\n",
        "We created a three-dimensional NumPy array having 2 blocks, 2 rows and 2 columns to keep track of the last two player inputs and the current player input.\n",
        "\n",
        "```\n",
        "[[[0, 0],\n",
        "  [0, 0]],\n",
        "\n",
        " [[0, 0],\n",
        "  [0, 0]]]\n",
        "```\n",
        "\n",
        "So, for a combination of the last two player inputs and the current player input, if a situation is repeated then we will store `1` in the second column of the array otherwise, we will store `0`. \n",
        "\n",
        "Let's quickly run the codes for the activities that were covered in the last class and begin this class from **Activity 1: The `update_scores()` Function**"
      ]
    },
    {
      "cell_type": "markdown",
      "metadata": {
        "id": "l_ahJm30UqfP"
      },
      "source": [
        "---"
      ]
    },
    {
      "cell_type": "markdown",
      "metadata": {
        "id": "6D8fIaMVC6dM"
      },
      "source": [
        "#### Last Two Players Inputs\n",
        "\n",
        "The `last_1` and `last_2` variables keep track of the last two inputs of a player. "
      ]
    },
    {
      "cell_type": "code",
      "metadata": {
        "id": "HoQ6NypDBUaO"
      },
      "source": [
        "# Create two variables; 'last_1' and 'last_2' with 0 as their initial values.\n",
        "last_1 = 0\n",
        "last_2 = 0"
      ],
      "execution_count": null,
      "outputs": []
    },
    {
      "cell_type": "markdown",
      "metadata": {
        "id": "M6zlCpmnxc8L"
      },
      "source": [
        "\n",
        "- `last_1` stores the last player input. \n",
        "\n",
        "- `last_2` stores the second-last player input.\n"
      ]
    },
    {
      "cell_type": "markdown",
      "metadata": {
        "id": "nYg8ypDcMCnt"
      },
      "source": [
        "\n",
        "\n",
        "---"
      ]
    },
    {
      "cell_type": "markdown",
      "metadata": {
        "id": "N3o05TxC_u4b"
      },
      "source": [
        "#### The `inputs` Array"
      ]
    },
    {
      "cell_type": "code",
      "metadata": {
        "id": "rRxf3tCIAMUZ",
        "colab": {
          "base_uri": "https://localhost:8080/"
        },
        "outputId": "25e40e6a-fca8-4a72-b3f9-1abcc6a56740"
      },
      "source": [
        "# Create a 3D NumPy array of size (2, 2, 2) whose all the elements are 0.\n",
        "import numpy as np\n",
        "\n",
        "inputs = np.zeros(shape=(2, 2, 2), dtype=int)\n",
        "inputs"
      ],
      "execution_count": null,
      "outputs": [
        {
          "output_type": "execute_result",
          "data": {
            "text/plain": [
              "array([[[0, 0],\n",
              "        [0, 0]],\n",
              "\n",
              "       [[0, 0],\n",
              "        [0, 0]]])"
            ]
          },
          "metadata": {
            "tags": []
          },
          "execution_count": 18
        }
      ]
    },
    {
      "cell_type": "markdown",
      "metadata": {
        "id": "UdJPOfrTaLvx"
      },
      "source": [
        "The `inputs` array acts as a memory for the Mind Reader game. \n",
        "\n",
        "- The first column (`column_index = 0`) of the `inputs` array will store the current player input.\n",
        "\n",
        "- The second column (`column_index = 1`) will store whether a situation (out of the 8 possible situations) is repeated or not. The 8 possible situations are:\n",
        "\n",
        "|Situation|Second-Last Play|Last Play|Current Player Input|\n",
        "|-|-|-|-|\n",
        "|1.|`0`|`0`|`0`|\n",
        "|2.|`0`|`0`|`1`|\n",
        "|3.|`0`|`1`|`0`|\n",
        "|4.|`0`|`1`|`1`|\n",
        "|5.|`1`|`0`|`0`|\n",
        "|6.|`1`|`0`|`1`|\n",
        "|7.|`1`|`1`|`0`|\n",
        "|8.|`1`|`1`|`1`|\n",
        "\n",
        "where `0` denotes `Heads` and `1` denotes `Tails`.\n",
        "\n",
        "The blocks in the `inputs` array denote the second-last play. \n",
        "\n",
        "- If `last_2 = 0`, then the `last_1` value will go to the first/second row of the **first** block.\n",
        "\n",
        "- If `last_2 = 1`, then the `last_1` value will go to the first/second row of the **second** block.\n",
        "\n",
        "<img src = 'https://student-datasets-bucket.s3.ap-south-1.amazonaws.com/images/inputs_array.png' width=600>\n",
        "\n",
        "At a time, the **current player input** will either go to the first block or second block because the second-last play would either be `0` or `1`.\n",
        "\n",
        "Here are the possible ways in which the current player inputs will be recorded in the first block.\n",
        "\n",
        "1. All the items in the first column are `0`.\n",
        "\n",
        "  ```\n",
        "  [[0, is_a_repeat],\n",
        "    [0, is_a_repeat]]\n",
        "  ```\n",
        "\n",
        "2. The item in the first row and first column is `0` but the item in the second row and the first column is `1`.\n",
        "\n",
        "  ```\n",
        "  [[0, is_a_repeat],\n",
        "    [1, is_a_repeat]]\n",
        "  ```\n",
        "\n",
        "3. The item in the first row and first column is `1` but the item in the second row and the first column is `0`.\n",
        "\n",
        "  ```\n",
        "  [[1, is_a_repeat],\n",
        "    [0, is_a_repeat]]\n",
        "  ```\n",
        "\n",
        "4. All the items in the first column are `1`.\n",
        "\n",
        "  ```\n",
        "  [[1, is_a_repeat],\n",
        "    [1, is_a_repeat]]\n",
        "  ```\n",
        "\n",
        "The value of `is_a_repeat` is either `0` or `1`.\n",
        "\n",
        "  - The value `0` or `1` in the first column represents whether the player played `Heads` or `Tails`, respectively, in the last attempt.\n",
        "  \n",
        "  - The value `0` or `1` in the second column represents whether a situation (a combination of `last_2, last_1` and current player input) is repeated or not. The value `0` means the situation is NOT repeated and `1` means the situation is repeated.\n",
        "\n",
        "The second block will also have the exact same possibilities."
      ]
    },
    {
      "cell_type": "markdown",
      "metadata": {
        "id": "uwQW2KgKcu6B"
      },
      "source": [
        "---"
      ]
    },
    {
      "cell_type": "markdown",
      "metadata": {
        "id": "Vfeuw23lVCxW"
      },
      "source": [
        "#### The `update_inputs()` Function\n",
        "\n",
        "Update the entries of the `inputs` array by creating the `update_inputs()` function. It should take `current` player input as an input and should not return anything. It should just update the player inputs in the `inputs` array.\n",
        "\n",
        "For a row in a block, if an item in the $1^{st}$ column is the same as the `current` player input, then set the value in the $2^{nd}$ column equal to `1`, and set the value in the $1^{st}$ column equal to the `current` player input.\n",
        "\n",
        "```\n",
        "if inputs[last_2][last_1][0] == current:\n",
        "    inputs[last_2][last_1][1] = 1 \n",
        "    inputs[last_2][last_1][0] = current\n",
        "```\n",
        "\n",
        "Otherwise, set the value in the $2^{nd}$ column equal to `0` and set the value in the $1^{st}$ column equal to the `current` value.\n",
        "\n",
        "```\n",
        "inputs[last_2][last_1][1] = 0 \n",
        "    inputs[last_2][last_1][0] = current\n",
        "```\n",
        "\n",
        "Then, the `current` value should become the `last_1` value and the `last_1` value should become the `last_2` value.\n",
        "\n",
        "```\n",
        "  last_2 = last_1 \n",
        "  last_1 = current \n",
        "```"
      ]
    },
    {
      "cell_type": "code",
      "metadata": {
        "id": "Dms5n1NhMZAi"
      },
      "source": [
        "# Create the 'update_inputs()' function.\n",
        "def update_inputs(current):\n",
        "  if inputs[last_2][last_1][0] == current:\n",
        "    inputs[last_2][last_1][1] = 1 \n",
        "    inputs[last_2][last_1][0] = current\n",
        "  else:\n",
        "    inputs[last_2][last_1][1] = 0 \n",
        "    inputs[last_2][last_1][0] = current\n",
        " \n",
        "  last_2 = last_1 \n",
        "  last_1 = current "
      ],
      "execution_count": null,
      "outputs": []
    },
    {
      "cell_type": "markdown",
      "metadata": {
        "id": "KwG1KuUsc2iP"
      },
      "source": [
        "---"
      ]
    },
    {
      "cell_type": "markdown",
      "metadata": {
        "id": "cTIIPwaQYse1"
      },
      "source": [
        "#### The `prediction()` Function\n",
        "\n",
        "Create the `prediction()` function to allow a computer to make predictions based on the player inputs in the last two plays.\n",
        "\n",
        "For a row in a block, if the value in the $2^{nd}$ column is `1`, then the `prediction()` function should return the item stored in the $1^{st}$ column as the predicted value. \n",
        "\n",
        "```\n",
        "if inputs[last_2][last_1][1] == 1: \n",
        "    predict = inputs[last_2][last_1][0]\n",
        "```\n",
        "\n",
        "Else, either return `0` or `1` randomly as the predicted value.\n",
        "\n",
        "```\n",
        "else:\n",
        "    predict = random.randint(0, 1)\n",
        "```\n",
        "\n",
        "Essentially, if the item in the second column is `1`, then return the item stored in the first column as the predicted value. Else, predict `0` or `1` randomly."
      ]
    },
    {
      "cell_type": "code",
      "metadata": {
        "id": "vDJJRnrjKaEC"
      },
      "source": [
        "# Create the 'prediction()' function which returns the predicted value.\n",
        "def prediction():\n",
        "  if inputs[last_2][last_1][1] == 1: \n",
        "    predict = inputs[last_2][last_1][0]    \n",
        "  else:\n",
        "    predict = random.randint(0, 1)  \n",
        "  return predict"
      ],
      "execution_count": null,
      "outputs": []
    },
    {
      "cell_type": "markdown",
      "metadata": {
        "id": "ipMiJfsTc4h4"
      },
      "source": [
        "---"
      ]
    },
    {
      "cell_type": "markdown",
      "metadata": {
        "id": "IYuskDGYjiSp"
      },
      "source": [
        "---"
      ]
    },
    {
      "cell_type": "markdown",
      "metadata": {
        "id": "ICN5SalGIKoI"
      },
      "source": [
        "---"
      ]
    },
    {
      "cell_type": "markdown",
      "metadata": {
        "id": "JuHGxZn9aXJI"
      },
      "source": [
        "#### Activity 3: Putting Everything Together^\n",
        "\n",
        "Now put all the components of the Mind Reader game algorithm in one place."
      ]
    },
    {
      "cell_type": "code",
      "metadata": {
        "id": "1k22BieyBUCl",
        "colab": {
          "base_uri": "https://localhost:8080/"
        },
        "outputId": "86a08ec8-9943-43b8-94c8-f3844c93bb2e"
      },
      "source": [
        "# Student Action: Put all the functions and variables of the Mind Reader game algorithm here.\n",
        "import random\n",
        "import numpy as np \n",
        "inputs = np.zeros(shape= (2,2,2), dtype = int)\n",
        "print(inputs)\n",
        "last_1 = 0\n",
        "last_2 = 0\n",
        "scores = [0,0]\n",
        "def update_input(current):\n",
        "  global last_2, last_1\n",
        "  if inputs[last_2][last_1][0] == current:\n",
        "    inputs[last_2][last_1][1] = 1\n",
        "    inputs[last_2][last_1][0] = current\n",
        "  else:\n",
        "    inputs[last_2][last_1][1] = 0\n",
        "    inputs[last_2][last_1][0] = current\n",
        "  last_2 = last_1\n",
        "  last_1 = current   \n",
        "def prediction():\n",
        "  if inputs[last_2][last_1][1]  == 1:\n",
        "    predict = inputs[last_2][last_1][0] \n",
        "  else :\n",
        "    predict = random.randint(0,1) \n",
        "  return predict   \n",
        "def update_scores(player_input , predicted):\n",
        "  if player_input == predicted:\n",
        "    scores[0] += 1\n",
        "    print(\"player score is : \", scores[1])\n",
        "    print(\"computer score is :\", scores[0])\n",
        "  else:\n",
        "    scores[1] += 1\n",
        "    print(\"player score is : \", scores[1])\n",
        "    print(\"computer score is :\", scores[0])\n",
        "def reset():\n",
        "  for i in range(2):\n",
        "    for j in range(2):\n",
        "      for k in range(2):\n",
        "        inputs[i][j][k]=0\n",
        "  for i in range(2):\n",
        "    scores[i] = 0\n",
        "\n",
        "\n",
        "\n",
        "\n",
        "\n",
        "  \n",
        "\n",
        "\n"
      ],
      "execution_count": null,
      "outputs": [
        {
          "output_type": "stream",
          "text": [
            "[[[0 0]\n",
            "  [0 0]]\n",
            "\n",
            " [[0 0]\n",
            "  [0 0]]]\n"
          ],
          "name": "stdout"
        }
      ]
    },
    {
      "cell_type": "code",
      "metadata": {
        "colab": {
          "base_uri": "https://localhost:8080/"
        },
        "id": "5-iFtBpBL8-X",
        "outputId": "8d2b1ac5-dca8-4edc-e223-452f302c3fb7"
      },
      "source": [
        "inputs"
      ],
      "execution_count": null,
      "outputs": [
        {
          "output_type": "execute_result",
          "data": {
            "text/plain": [
              "array([[[1, 0],\n",
              "        [1, 1]],\n",
              "\n",
              "       [[1, 0],\n",
              "        [0, 0]]])"
            ]
          },
          "metadata": {
            "tags": []
          },
          "execution_count": 26
        }
      ]
    },
    {
      "cell_type": "markdown",
      "metadata": {
        "id": "rmiJ2qcpvHJa"
      },
      "source": [
        "---"
      ]
    },
    {
      "cell_type": "markdown",
      "metadata": {
        "id": "KOeUgF8kvH4q"
      },
      "source": [
        "#### Activity 4: The `gameplay()` Function^^^\n",
        "\n",
        "Now, let's create the `gameplay()` function to run the Mind Reader game. We have used this function many times in earlier classes. There is no major change in it. However, it should first execute the `reset()` function so that whenever a player plays this game again, it should reset the `inputs` values and the `scores` values.\n",
        "\n",
        "\n",
        "For the testing purpose, let's run the Mind Reader game till either the player or the computer has reached a score of 20 points. If we run this game till 50 points, then the testing will take a very long time. Later you can change the scoring to 50 points."
      ]
    },
    {
      "cell_type": "code",
      "metadata": {
        "id": "AdiwBplXCXfK"
      },
      "source": [
        "# Student Action: Create the 'gameplay()' function.\n",
        "def gameplay():\n",
        "  reset()\n",
        "  valid_entries = [\"0\",\"1\"]\n",
        "  while True:\n",
        "    predicted = prediction()\n",
        "    player_input = input(\"please enter either 0 or 1 :\")\n",
        "    while player_input not in valid_entries:\n",
        "      print(\"invalid input\")\n",
        "      player_input = input(\"please enter either 0 or 1 :\")\n",
        "    player_input = int(player_input)\n",
        "    update_input( player_input)\n",
        "    update_scores(player_input,predicted)\n",
        "    if scores[0]==10:\n",
        "      print(\"computer won the game\")\n",
        "      break\n",
        "    elif scores[1]==10:\n",
        "      print(\"player won the game\")\n",
        "      break  \n",
        "\n",
        "\n"
      ],
      "execution_count": null,
      "outputs": []
    },
    {
      "cell_type": "markdown",
      "metadata": {
        "id": "b7HKTfwQwWnf"
      },
      "source": [
        "Now, run the game by executing the `gameplay()` function."
      ]
    },
    {
      "cell_type": "code",
      "metadata": {
        "id": "PDSE2tF_C129",
        "colab": {
          "base_uri": "https://localhost:8080/"
        },
        "outputId": "06cce575-c95c-486e-ac34-9e933917c01a"
      },
      "source": [
        "# Student Action: Run the game by executing the 'gameplay()' function.\n",
        "gameplay()"
      ],
      "execution_count": null,
      "outputs": [
        {
          "output_type": "stream",
          "text": [
            "please enter either 0 or 1 :1\n",
            "player score is :  0\n",
            "computer score is : 1\n",
            "please enter either 0 or 1 :1\n",
            "player score is :  0\n",
            "computer score is : 2\n",
            "please enter either 0 or 1 :1\n",
            "player score is :  0\n",
            "computer score is : 3\n",
            "please enter either 0 or 1 :1\n",
            "player score is :  0\n",
            "computer score is : 4\n",
            "please enter either 0 or 1 :1\n",
            "player score is :  0\n",
            "computer score is : 5\n",
            "please enter either 0 or 1 :1\n",
            "player score is :  0\n",
            "computer score is : 6\n",
            "please enter either 0 or 1 :1\n",
            "player score is :  0\n",
            "computer score is : 7\n",
            "please enter either 0 or 1 :1\n",
            "player score is :  0\n",
            "computer score is : 8\n",
            "please enter either 0 or 1 :4\n",
            "invalid input\n",
            "please enter either 0 or 1 :1\n",
            "player score is :  0\n",
            "computer score is : 9\n",
            "please enter either 0 or 1 :0\n",
            "player score is :  1\n",
            "computer score is : 9\n",
            "please enter either 0 or 1 :1\n",
            "player score is :  2\n",
            "computer score is : 9\n",
            "please enter either 0 or 1 :1\n",
            "player score is :  2\n",
            "computer score is : 10\n",
            "computer won the game\n"
          ],
          "name": "stdout"
        }
      ]
    },
    {
      "cell_type": "markdown",
      "metadata": {
        "id": "HMGBOxI_FAmk"
      },
      "source": [
        "Finally, we have implemented the algorithm for the Mind Reader game which you played in the trial class to allow a computer to predict a player's next move accurately."
      ]
    },
    {
      "cell_type": "markdown",
      "metadata": {
        "id": "YigbTCM4QXVr"
      },
      "source": [
        "---"
      ]
    }
  ]
}